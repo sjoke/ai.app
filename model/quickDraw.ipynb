{
 "cells": [
  {
   "cell_type": "code",
   "execution_count": 1,
   "metadata": {},
   "outputs": [],
   "source": [
    "import tensorflow as tf\n",
    "from tensorflow import keras\n",
    "from tensorflow.keras import layers\n",
    "from tensorflow.keras import metrics\n",
    "import numpy as np\n",
    "\n",
    "from random import randint\n",
    "import matplotlib.pyplot as plt\n",
    "\n",
    "import glob\n",
    "import os\n",
    "import urllib.request\n",
    "import time"
   ]
  },
  {
   "cell_type": "code",
   "execution_count": 2,
   "metadata": {},
   "outputs": [],
   "source": [
    "\n",
    "def load_data(root, test_ratio=0.2, max_items_per_class=10000):\n",
    "    all_files = glob.glob(os.path.join(root, '*.npy'))\n",
    "\n",
    "    # initialize variables\n",
    "    x = np.empty([0, 784])\n",
    "    y = np.empty([0])\n",
    "    class_names = []\n",
    "\n",
    "    # load each data file\n",
    "    for idx, file in enumerate(all_files):\n",
    "        class_name = file.split('.')[0]\n",
    "        class_names.append(class_name)\n",
    "\n",
    "        data = np.load(file)\n",
    "        # print('class[%s] has %d samples' % (class_name, data.shape[0]))\n",
    "        data = data[0: max_items_per_class, :]\n",
    "        labels = np.full(data.shape[0], idx)\n",
    "\n",
    "        x = np.append(x, data, axis=0)\n",
    "        y = np.append(y, labels)\n",
    "\n",
    "    data = None\n",
    "    labels = None\n",
    "\n",
    "    # randomize the dataset\n",
    "    permutation = np.random.permutation(y.shape[0])\n",
    "    x = x[permutation, :]\n",
    "    y = y[permutation]\n",
    "\n",
    "    # separate into training and testing\n",
    "    test_size = int(x.shape[0]/100*(test_ratio*100))\n",
    "\n",
    "    x_test = x[0:test_size, :]\n",
    "    y_test = y[0:test_size]\n",
    "\n",
    "    x_train = x[test_size:, :]\n",
    "    y_train = y[test_size:]\n",
    "    return x_train, y_train, x_test, y_test, class_names"
   ]
  },
  {
   "cell_type": "code",
   "execution_count": 3,
   "metadata": {},
   "outputs": [
    {
     "data": {
      "text/plain": [
       "50"
      ]
     },
     "execution_count": 3,
     "metadata": {},
     "output_type": "execute_result"
    }
   ],
   "source": [
    "x_train, y_train, x_test, y_test, class_names = load_data('data', max_items_per_class=100)\n",
    "num_classes = len(class_names)\n",
    "image_size = 28\n",
    "num_classes"
   ]
  },
  {
   "cell_type": "code",
   "execution_count": 14,
   "metadata": {},
   "outputs": [
    {
     "name": "stdout",
     "output_type": "stream",
     "text": [
      "x_train shape:  (169600, 784)\n"
     ]
    }
   ],
   "source": [
    "print('x_train shape: ', x_train.shape)\n",
    "assert x_train.shape[0] == y_train.shape[0]\n",
    "assert x_test.shape[0] == y_test.shape[0]"
   ]
  },
  {
   "cell_type": "code",
   "execution_count": 12,
   "metadata": {
    "scrolled": true
   },
   "outputs": [
    {
     "name": "stdout",
     "output_type": "stream",
     "text": [
      "data\\tooth\n"
     ]
    },
    {
     "data": {
      "image/png": "[encoded data removed]",
      "text/plain": [
       "<Figure size 432x288 with 1 Axes>"
      ]
     },
     "metadata": {},
     "output_type": "display_data"
    }
   ],
   "source": [
    "\"\"\"Show some random data\"\"\"\n",
    "idx = randint(0, len(x_train))\n",
    "rand_x = x_train[idx].reshape(28, 28)\n",
    "plt.imshow(rand_x)\n",
    "print(class_names[int(y_train[idx].item())])"
   ]
  },
  {
   "cell_type": "code",
   "execution_count": 16,
   "metadata": {},
   "outputs": [],
   "source": [
    "\n",
    "\"\"\"# Preprocess the Data\"\"\"\n",
    "\n",
    "# Reshape and normalize\n",
    "x_train = x_train.reshape(\n",
    "    x_train.shape[0], image_size, image_size, 1).astype('float32')\n",
    "x_test = x_test.reshape(\n",
    "    x_test.shape[0], image_size, image_size, 1).astype('float32')\n",
    "\n",
    "x_train /= 255.0\n",
    "x_test /= 255.0\n",
    "\n",
    "# Convert class vectors to class matrices\n",
    "y_train = keras.utils.to_categorical(y_train, num_classes)\n",
    "y_test = keras.utils.to_categorical(y_test, num_classes)\n"
   ]
  },
  {
   "cell_type": "code",
   "execution_count": 17,
   "metadata": {},
   "outputs": [
    {
     "name": "stdout",
     "output_type": "stream",
     "text": [
      "_________________________________________________________________\n",
      "Layer (type)                 Output Shape              Param #   \n",
      "=================================================================\n",
      "conv2d_4 (Conv2D)            (None, 28, 28, 16)        160       \n",
      "_________________________________________________________________\n",
      "max_pooling2d_4 (MaxPooling2 (None, 14, 14, 16)        0         \n",
      "_________________________________________________________________\n",
      "conv2d_5 (Conv2D)            (None, 14, 14, 32)        4640      \n",
      "_________________________________________________________________\n",
      "max_pooling2d_5 (MaxPooling2 (None, 7, 7, 32)          0         \n",
      "_________________________________________________________________\n",
      "conv2d_6 (Conv2D)            (None, 7, 7, 64)          18496     \n",
      "_________________________________________________________________\n",
      "max_pooling2d_6 (MaxPooling2 (None, 3, 3, 64)          0         \n",
      "_________________________________________________________________\n",
      "conv2d_7 (Conv2D)            (None, 3, 3, 128)         73856     \n",
      "_________________________________________________________________\n",
      "max_pooling2d_7 (MaxPooling2 (None, 1, 1, 128)         0         \n",
      "_________________________________________________________________\n",
      "flatten_1 (Flatten)          (None, 128)               0         \n",
      "_________________________________________________________________\n",
      "dense_1 (Dense)              (None, 53)                6837      \n",
      "=================================================================\n",
      "Total params: 103,989\n",
      "Trainable params: 103,989\n",
      "Non-trainable params: 0\n",
      "_________________________________________________________________\n"
     ]
    }
   ],
   "source": [
    "# Define model\n",
    "model = keras.Sequential()\n",
    "model.add(layers.Convolution2D(16, (3, 3),\n",
    "                               padding='same',\n",
    "                               input_shape=(image_size, image_size, 1), activation='relu'))\n",
    "model.add(layers.MaxPooling2D(pool_size=(2, 2)))\n",
    "model.add(layers.Convolution2D(32, (3, 3), padding='same', activation='relu'))\n",
    "model.add(layers.MaxPooling2D(pool_size=(2, 2)))\n",
    "model.add(layers.Convolution2D(64, (3, 3), padding='same', activation='relu'))\n",
    "model.add(layers.MaxPooling2D(pool_size=(2, 2)))\n",
    "model.add(layers.Convolution2D(128, (3, 3), padding='same', activation='relu'))\n",
    "model.add(layers.MaxPooling2D(pool_size=(2, 2)))\n",
    "model.add(layers.Flatten())\n",
    "model.add(layers.Dense(num_classes, activation='softmax'))\n",
    "\n",
    "model.summary()"
   ]
  },
  {
   "cell_type": "code",
   "execution_count": 18,
   "metadata": {},
   "outputs": [],
   "source": [
    "\n",
    "# compile model\n",
    "adam = tf.train.AdamOptimizer()\n",
    "\n",
    "# top-N\n",
    "TOP_N = 5\n",
    "\n",
    "def top_n_categorical_accuracy(y_pred, y_label):\n",
    "    return metrics.top_k_categorical_accuracy(y_pred, y_label, k=TOP_N)\n",
    "\n",
    "model.compile(loss='categorical_crossentropy',\n",
    "              optimizer=adam,\n",
    "              metrics=['accuracy', top_n_categorical_accuracy])\n"
   ]
  },
  {
   "cell_type": "code",
   "execution_count": 19,
   "metadata": {},
   "outputs": [
    {
     "name": "stdout",
     "output_type": "stream",
     "text": [
      "Train on 152640 samples, validate on 16960 samples\n",
      "Epoch 1/10\n",
      "152640/152640 [==============================] - 184s 1ms/step - loss: 1.5598 - acc: 0.5929 - top_n_categorical_accuracy: 0.8361 - val_loss: 1.0897 - val_acc: 0.7186 - val_top_n_categorical_accuracy: 0.9070\n",
      "Epoch 2/10\n",
      "152640/152640 [==============================] - 188s 1ms/step - loss: 0.9591 - acc: 0.7484 - top_n_categorical_accuracy: 0.9231 - val_loss: 0.8953 - val_acc: 0.7692 - val_top_n_categorical_accuracy: 0.9285\n",
      "Epoch 3/10\n",
      "152640/152640 [==============================] - 189s 1ms/step - loss: 0.8127 - acc: 0.7852 - top_n_categorical_accuracy: 0.9373 - val_loss: 0.8513 - val_acc: 0.7774 - val_top_n_categorical_accuracy: 0.9325\n",
      "Epoch 4/10\n",
      "152640/152640 [==============================] - 199s 1ms/step - loss: 0.7293 - acc: 0.8053 - top_n_categorical_accuracy: 0.9450 - val_loss: 0.7718 - val_acc: 0.8003 - val_top_n_categorical_accuracy: 0.9407\n",
      "Epoch 5/10\n",
      "152640/152640 [==============================] - 179s 1ms/step - loss: 0.6739 - acc: 0.8195 - top_n_categorical_accuracy: 0.9503 - val_loss: 0.7499 - val_acc: 0.8029 - val_top_n_categorical_accuracy: 0.9425\n",
      "Epoch 6/10\n",
      "152640/152640 [==============================] - 171s 1ms/step - loss: 0.6299 - acc: 0.8308 - top_n_categorical_accuracy: 0.9544 - val_loss: 0.7488 - val_acc: 0.8055 - val_top_n_categorical_accuracy: 0.9423\n",
      "Epoch 7/10\n",
      "152640/152640 [==============================] - 171s 1ms/step - loss: 0.5936 - acc: 0.8399 - top_n_categorical_accuracy: 0.9579 - val_loss: 0.7175 - val_acc: 0.8157 - val_top_n_categorical_accuracy: 0.9443\n",
      "Epoch 8/10\n",
      "152640/152640 [==============================] - 178s 1ms/step - loss: 0.5640 - acc: 0.8465 - top_n_categorical_accuracy: 0.9606 - val_loss: 0.7087 - val_acc: 0.8154 - val_top_n_categorical_accuracy: 0.9463\n",
      "Epoch 9/10\n",
      "152640/152640 [==============================] - 179s 1ms/step - loss: 0.5373 - acc: 0.8532 - top_n_categorical_accuracy: 0.9629 - val_loss: 0.7062 - val_acc: 0.8203 - val_top_n_categorical_accuracy: 0.9463\n",
      "Epoch 10/10\n",
      "152640/152640 [==============================] - 175s 1ms/step - loss: 0.5143 - acc: 0.8594 - top_n_categorical_accuracy: 0.9650 - val_loss: 0.6998 - val_acc: 0.8195 - val_top_n_categorical_accuracy: 0.9476\n",
      "cost time 30m12s\n"
     ]
    }
   ],
   "source": [
    "starttime = time.time()\n",
    "\n",
    "\"\"\"# Training\"\"\"\n",
    "\n",
    "history = model.fit(x=x_train, y=y_train, validation_split=0.1, batch_size=128, verbose=1, epochs=10)\n",
    "\n",
    "cost_time = time.time() - starttime\n",
    "print('cost time {:.0f}m{:.0f}s'.format(cost_time/60, cost_time%60))"
   ]
  },
  {
   "cell_type": "code",
   "execution_count": 20,
   "metadata": {},
   "outputs": [
    {
     "name": "stdout",
     "output_type": "stream",
     "text": [
      "loss: 0.698, Test accurracy: 81.93%, top-5 accuarcy: 94.60%\n"
     ]
    }
   ],
   "source": [
    "score = model.evaluate(x_test, y_test, verbose=0)\n",
    "print('loss: {:.3f}, Test accurracy: {:.2f}%, top-{} accuarcy: {:0.2f}%'\n",
    "      .format(score[0], score[1] * 100, TOP_N, score[2] * 100))"
   ]
  },
  {
   "cell_type": "code",
   "execution_count": 21,
   "metadata": {},
   "outputs": [
    {
     "name": "stdout",
     "output_type": "stream",
     "text": [
      "WARNING:tensorflow:TensorFlow optimizers do not make it possible to access optimizer attributes or optimizer state after instantiation. As a result, we cannot save the optimizer as part of the model save file.You will have to compile your model again after loading it. Prefer using a Keras optimizer instead (see keras.io/optimizers).\n"
     ]
    }
   ],
   "source": [
    "\"\"\"# Inference\"\"\"\n",
    "\n",
    "model.save('quickDraw.h5')"
   ]
  },
  {
   "cell_type": "code",
   "execution_count": null,
   "metadata": {},
   "outputs": [],
   "source": [
    "#predict\n",
    "idx = randint(0, len(x_test))\n",
    "print(idx, x_test.shape, y_test.shape)\n",
    "pred = model.predict(np.expand_dims(x_test[idx], axis=0))\n",
    "print(pred.shape)\n",
    "\n",
    "pred1 = pred[0].argmax()\n",
    "print(pred1)\n",
    "print(int(y_test[idx].argmax().item()))\n",
    "#pred2 = (-pred[0]).argsort()[:5]\n",
    "#print(pred2)\n",
    "\n",
    "plt.imshow(x_test[idx].squeeze()) \n",
    "print(\"%s %2.f%% %s\" % (class_names[int(pred1.item())],pred[0][pred1]*100 , class_names[int(y_test[idx].argmax().item())]))"
   ]
  }
 ],
 "metadata": {
  "kernelspec": {
   "display_name": "Python 3",
   "language": "python",
   "name": "python3"
  },
  "language_info": {
   "codemirror_mode": {
    "name": "ipython",
    "version": 3
   },
   "file_extension": ".py",
   "mimetype": "text/x-python",
   "name": "python",
   "nbconvert_exporter": "python",
   "pygments_lexer": "ipython3",
   "version": "3.6.4"
  }
 },
 "nbformat": 4,
 "nbformat_minor": 2
}
